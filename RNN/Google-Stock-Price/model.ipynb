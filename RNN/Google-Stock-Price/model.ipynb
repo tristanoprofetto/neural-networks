{
 "cells": [
  {
   "cell_type": "markdown",
   "metadata": {
    "id": "xpAuMVCwfWs8"
   },
   "source": [
    "# Recurrent Neural Network"
   ]
  },
  {
   "cell_type": "markdown",
   "metadata": {
    "id": "ir9zwETrfbrp"
   },
   "source": [
    "### Importing the libraries"
   ]
  },
  {
   "cell_type": "code",
   "execution_count": null,
   "metadata": {},
   "outputs": [],
   "source": [
    "import numpy as np\n",
    "import matplotlib.pyplot as plt\n",
    "import pandas as pd\n",
    "import tensorflow as tf"
   ]
  },
  {
   "cell_type": "code",
   "execution_count": 2,
   "metadata": {
    "executionInfo": {
     "elapsed": 499,
     "status": "ok",
     "timestamp": 1612967714249,
     "user": {
      "displayName": "Jordan Sauchuk",
      "photoUrl": "",
      "userId": "08387430205938821804"
     },
     "user_tz": 300
    },
    "id": "1xiv3pJOgqY3"
   },
   "outputs": [],
   "source": [
    "# Importing training set \n",
    "\n",
    "train = pd.read_csv('./Google_Stock_Price_Train.csv')\n",
    "training_set = train.iloc[:, 1:2].values"
   ]
  },
  {
   "cell_type": "code",
   "execution_count": 9,
   "metadata": {},
   "outputs": [
    {
     "data": {
      "text/html": [
       "<div>\n",
       "<style scoped>\n",
       "    .dataframe tbody tr th:only-of-type {\n",
       "        vertical-align: middle;\n",
       "    }\n",
       "\n",
       "    .dataframe tbody tr th {\n",
       "        vertical-align: top;\n",
       "    }\n",
       "\n",
       "    .dataframe thead th {\n",
       "        text-align: right;\n",
       "    }\n",
       "</style>\n",
       "<table border=\"1\" class=\"dataframe\">\n",
       "  <thead>\n",
       "    <tr style=\"text-align: right;\">\n",
       "      <th></th>\n",
       "      <th>Date</th>\n",
       "      <th>Open</th>\n",
       "      <th>High</th>\n",
       "      <th>Low</th>\n",
       "      <th>Close</th>\n",
       "      <th>Volume</th>\n",
       "    </tr>\n",
       "  </thead>\n",
       "  <tbody>\n",
       "    <tr>\n",
       "      <th>0</th>\n",
       "      <td>1/3/2012</td>\n",
       "      <td>325.25</td>\n",
       "      <td>332.83</td>\n",
       "      <td>324.97</td>\n",
       "      <td>663.59</td>\n",
       "      <td>7,380,500</td>\n",
       "    </tr>\n",
       "    <tr>\n",
       "      <th>1</th>\n",
       "      <td>1/4/2012</td>\n",
       "      <td>331.27</td>\n",
       "      <td>333.87</td>\n",
       "      <td>329.08</td>\n",
       "      <td>666.45</td>\n",
       "      <td>5,749,400</td>\n",
       "    </tr>\n",
       "    <tr>\n",
       "      <th>2</th>\n",
       "      <td>1/5/2012</td>\n",
       "      <td>329.83</td>\n",
       "      <td>330.75</td>\n",
       "      <td>326.89</td>\n",
       "      <td>657.21</td>\n",
       "      <td>6,590,300</td>\n",
       "    </tr>\n",
       "    <tr>\n",
       "      <th>3</th>\n",
       "      <td>1/6/2012</td>\n",
       "      <td>328.34</td>\n",
       "      <td>328.77</td>\n",
       "      <td>323.68</td>\n",
       "      <td>648.24</td>\n",
       "      <td>5,405,900</td>\n",
       "    </tr>\n",
       "    <tr>\n",
       "      <th>4</th>\n",
       "      <td>1/9/2012</td>\n",
       "      <td>322.04</td>\n",
       "      <td>322.29</td>\n",
       "      <td>309.46</td>\n",
       "      <td>620.76</td>\n",
       "      <td>11,688,800</td>\n",
       "    </tr>\n",
       "  </tbody>\n",
       "</table>\n",
       "</div>"
      ],
      "text/plain": [
       "       Date    Open    High     Low   Close      Volume\n",
       "0  1/3/2012  325.25  332.83  324.97  663.59   7,380,500\n",
       "1  1/4/2012  331.27  333.87  329.08  666.45   5,749,400\n",
       "2  1/5/2012  329.83  330.75  326.89  657.21   6,590,300\n",
       "3  1/6/2012  328.34  328.77  323.68  648.24   5,405,900\n",
       "4  1/9/2012  322.04  322.29  309.46  620.76  11,688,800"
      ]
     },
     "execution_count": 9,
     "metadata": {},
     "output_type": "execute_result"
    }
   ],
   "source": [
    "train.head()"
   ]
  },
  {
   "cell_type": "markdown",
   "metadata": {
    "id": "HT8_2UJegtG5"
   },
   "source": [
    "### Feature Scaling"
   ]
  },
  {
   "cell_type": "code",
   "execution_count": 3,
   "metadata": {
    "executionInfo": {
     "elapsed": 1407,
     "status": "ok",
     "timestamp": 1612967715159,
     "user": {
      "displayName": "Jordan Sauchuk",
      "photoUrl": "",
      "userId": "08387430205938821804"
     },
     "user_tz": 300
    },
    "id": "OTrF2kR7gx9x"
   },
   "outputs": [],
   "source": [
    "from sklearn.preprocessing import MinMaxScaler\n",
    "sc = MinMaxScaler(feature_range = (0,1))\n",
    "\n",
    "train_scaled = sc.fit_transform(training_set)"
   ]
  },
  {
   "cell_type": "markdown",
   "metadata": {
    "id": "JyYgYocqhNUg"
   },
   "source": [
    "### Creating a data structure with 60 timesteps and 1 output"
   ]
  },
  {
   "cell_type": "code",
   "execution_count": 4,
   "metadata": {
    "executionInfo": {
     "elapsed": 1406,
     "status": "ok",
     "timestamp": 1612967715160,
     "user": {
      "displayName": "Jordan Sauchuk",
      "photoUrl": "",
      "userId": "08387430205938821804"
     },
     "user_tz": 300
    },
    "id": "iofU21B0i6ST"
   },
   "outputs": [],
   "source": [
    "x_train = []\n",
    "y_train = []\n",
    "\n",
    "for i in range(60, 1258):\n",
    "    x_train.append(train_scaled[i-60:i,0])\n",
    "    y_train.append(train_scaled[i,0])\n",
    "    \n",
    "x_train, y_train = np.array(x_train), np.array(y_train)"
   ]
  },
  {
   "cell_type": "markdown",
   "metadata": {
    "id": "D8yaN7Zvi95l"
   },
   "source": [
    "### Reshaping"
   ]
  },
  {
   "cell_type": "code",
   "execution_count": 5,
   "metadata": {
    "executionInfo": {
     "elapsed": 1405,
     "status": "ok",
     "timestamp": 1612967715161,
     "user": {
      "displayName": "Jordan Sauchuk",
      "photoUrl": "",
      "userId": "08387430205938821804"
     },
     "user_tz": 300
    },
    "id": "FOXqJHmNjBkz"
   },
   "outputs": [],
   "source": [
    "x_train = np.reshape(x_train, (x_train.shape[0], x_train.shape[1], 1))"
   ]
  },
  {
   "cell_type": "markdown",
   "metadata": {
    "id": "ZRRSOJeVjEWV"
   },
   "source": [
    "## Model Build"
   ]
  },
  {
   "cell_type": "code",
   "execution_count": 6,
   "metadata": {
    "executionInfo": {
     "elapsed": 3433,
     "status": "ok",
     "timestamp": 1612967717193,
     "user": {
      "displayName": "Jordan Sauchuk",
      "photoUrl": "",
      "userId": "08387430205938821804"
     },
     "user_tz": 300
    },
    "id": "1338dJ0UjRKH"
   },
   "outputs": [
    {
     "name": "stdout",
     "output_type": "stream",
     "text": [
      "WARNING:tensorflow:From C:\\Users\\tprofetto\\AppData\\Local\\Continuum\\anaconda3\\lib\\site-packages\\tensorflow\\python\\ops\\init_ops.py:1251: calling VarianceScaling.__init__ (from tensorflow.python.ops.init_ops) with dtype is deprecated and will be removed in a future version.\n",
      "Instructions for updating:\n",
      "Call initializer instance with the dtype argument instead of passing it to the constructor\n"
     ]
    }
   ],
   "source": [
    "# Architecture\n",
    "model = tf.keras.models.Sequential([\n",
    "    \n",
    "    tf.keras.layers.LSTM(units=50, return_sequences=True, input_shape=(x_train.shape[1], 1)),\n",
    "    tf.keras.layers.Dropout(0.2),\n",
    "    \n",
    "    tf.keras.layers.LSTM(units = 50, return_sequences = True),\n",
    "    tf.keras.layers.Dropout(0.2),\n",
    "    \n",
    "    tf.keras.layers.LSTM(units=50),\n",
    "    tf.keras.layers.Dropout(0.2),\n",
    "    \n",
    "    tf.keras.layers.Dense(units=1)\n",
    "    \n",
    "])"
   ]
  },
  {
   "cell_type": "markdown",
   "metadata": {
    "id": "zLx4K7uUkPSh"
   },
   "source": [
    "### Compiling the Model"
   ]
  },
  {
   "cell_type": "code",
   "execution_count": 7,
   "metadata": {
    "executionInfo": {
     "elapsed": 400,
     "status": "ok",
     "timestamp": 1612967819550,
     "user": {
      "displayName": "Jordan Sauchuk",
      "photoUrl": "",
      "userId": "08387430205938821804"
     },
     "user_tz": 300
    },
    "id": "XTrhVN-tkbko"
   },
   "outputs": [],
   "source": [
    "model.compile(optimizer='adam', loss='mean_squared_error')"
   ]
  },
  {
   "cell_type": "markdown",
   "metadata": {
    "id": "-mPhwKGkkebi"
   },
   "source": [
    "### Fitting the RNN to the Training set"
   ]
  },
  {
   "cell_type": "code",
   "execution_count": 8,
   "metadata": {
    "colab": {
     "base_uri": "https://localhost:8080/"
    },
    "executionInfo": {
     "elapsed": 603900,
     "status": "ok",
     "timestamp": 1612968424132,
     "user": {
      "displayName": "Jordan Sauchuk",
      "photoUrl": "",
      "userId": "08387430205938821804"
     },
     "user_tz": 300
    },
    "id": "I06Nkrz5kkb-",
    "outputId": "2c758322-7999-42f2-9e89-cbd89cc99941"
   },
   "outputs": [
    {
     "name": "stdout",
     "output_type": "stream",
     "text": [
      "WARNING:tensorflow:From C:\\Users\\tprofetto\\AppData\\Local\\Continuum\\anaconda3\\lib\\site-packages\\tensorflow\\python\\ops\\math_grad.py:1250: add_dispatch_support.<locals>.wrapper (from tensorflow.python.ops.array_ops) is deprecated and will be removed in a future version.\n",
      "Instructions for updating:\n",
      "Use tf.where in 2.0, which has the same broadcast rule as np.where\n",
      "Epoch 1/100\n",
      "1198/1198 [==============================] - 7s 6ms/sample - loss: 0.0516\n",
      "Epoch 2/100\n",
      "1198/1198 [==============================] - 5s 4ms/sample - loss: 0.0061\n",
      "Epoch 3/100\n",
      "1198/1198 [==============================] - 5s 4ms/sample - loss: 0.0045\n",
      "Epoch 4/100\n",
      "1198/1198 [==============================] - 5s 4ms/sample - loss: 0.0046\n",
      "Epoch 5/100\n",
      "1198/1198 [==============================] - 5s 4ms/sample - loss: 0.0047\n",
      "Epoch 6/100\n",
      "1198/1198 [==============================] - 5s 4ms/sample - loss: 0.0050\n",
      "Epoch 7/100\n",
      "1198/1198 [==============================] - 5s 4ms/sample - loss: 0.0044\n",
      "Epoch 8/100\n",
      "1198/1198 [==============================] - 5s 4ms/sample - loss: 0.0037\n",
      "Epoch 9/100\n",
      "1198/1198 [==============================] - 5s 5ms/sample - loss: 0.0038\n",
      "Epoch 10/100\n",
      "1198/1198 [==============================] - 5s 5ms/sample - loss: 0.0037\n",
      "Epoch 11/100\n",
      "1198/1198 [==============================] - 5s 4ms/sample - loss: 0.0034\n",
      "Epoch 12/100\n",
      "1198/1198 [==============================] - 5s 5ms/sample - loss: 0.0039\n",
      "Epoch 13/100\n",
      "1198/1198 [==============================] - 6s 5ms/sample - loss: 0.0035\n",
      "Epoch 14/100\n",
      "1198/1198 [==============================] - 5s 4ms/sample - loss: 0.0032\n",
      "Epoch 15/100\n",
      "1198/1198 [==============================] - 5s 4ms/sample - loss: 0.0036\n",
      "Epoch 16/100\n",
      "1198/1198 [==============================] - 5s 4ms/sample - loss: 0.0037\n",
      "Epoch 17/100\n",
      "1198/1198 [==============================] - 5s 4ms/sample - loss: 0.0035\n",
      "Epoch 18/100\n",
      "1198/1198 [==============================] - 5s 4ms/sample - loss: 0.0030\n",
      "Epoch 19/100\n",
      "1198/1198 [==============================] - 5s 5ms/sample - loss: 0.0031\n",
      "Epoch 20/100\n",
      "1198/1198 [==============================] - 5s 5ms/sample - loss: 0.0030\n",
      "Epoch 21/100\n",
      "1198/1198 [==============================] - 5s 4ms/sample - loss: 0.0031\n",
      "Epoch 22/100\n",
      "1198/1198 [==============================] - 5s 5ms/sample - loss: 0.0029\n",
      "Epoch 23/100\n",
      "1198/1198 [==============================] - 5s 5ms/sample - loss: 0.0034\n",
      "Epoch 24/100\n",
      "1198/1198 [==============================] - 5s 4ms/sample - loss: 0.0030\n",
      "Epoch 25/100\n",
      "1198/1198 [==============================] - 6s 5ms/sample - loss: 0.0028\n",
      "Epoch 26/100\n",
      "1198/1198 [==============================] - 5s 4ms/sample - loss: 0.0027\n",
      "Epoch 27/100\n",
      "1198/1198 [==============================] - 5s 4ms/sample - loss: 0.0026\n",
      "Epoch 28/100\n",
      "1198/1198 [==============================] - 5s 5ms/sample - loss: 0.0032\n",
      "Epoch 29/100\n",
      "1198/1198 [==============================] - 6s 5ms/sample - loss: 0.0025\n",
      "Epoch 30/100\n",
      "1198/1198 [==============================] - 5s 4ms/sample - loss: 0.0026\n",
      "Epoch 31/100\n",
      "1198/1198 [==============================] - 5s 4ms/sample - loss: 0.0031\n",
      "Epoch 32/100\n",
      "1198/1198 [==============================] - 5s 5ms/sample - loss: 0.0029\n",
      "Epoch 33/100\n",
      "1198/1198 [==============================] - 5s 4ms/sample - loss: 0.0025\n",
      "Epoch 34/100\n",
      "1198/1198 [==============================] - 5s 4ms/sample - loss: 0.0025\n",
      "Epoch 35/100\n",
      "1198/1198 [==============================] - 5s 5ms/sample - loss: 0.0025\n",
      "Epoch 36/100\n",
      "1198/1198 [==============================] - 5s 5ms/sample - loss: 0.0025\n",
      "Epoch 37/100\n",
      "1198/1198 [==============================] - 5s 4ms/sample - loss: 0.0025\n",
      "Epoch 38/100\n",
      "1198/1198 [==============================] - 5s 4ms/sample - loss: 0.0027\n",
      "Epoch 39/100\n",
      "1198/1198 [==============================] - 5s 4ms/sample - loss: 0.0025\n",
      "Epoch 40/100\n",
      "1198/1198 [==============================] - 5s 4ms/sample - loss: 0.0027\n",
      "Epoch 41/100\n",
      "1198/1198 [==============================] - 5s 4ms/sample - loss: 0.0024\n",
      "Epoch 42/100\n",
      "1198/1198 [==============================] - 5s 4ms/sample - loss: 0.0023\n",
      "Epoch 43/100\n",
      "1198/1198 [==============================] - 5s 4ms/sample - loss: 0.0026\n",
      "Epoch 44/100\n",
      "1198/1198 [==============================] - 5s 4ms/sample - loss: 0.0022\n",
      "Epoch 45/100\n",
      "1198/1198 [==============================] - 5s 4ms/sample - loss: 0.0023\n",
      "Epoch 46/100\n",
      "1198/1198 [==============================] - 5s 5ms/sample - loss: 0.0023\n",
      "Epoch 47/100\n",
      "1198/1198 [==============================] - 5s 4ms/sample - loss: 0.0021\n",
      "Epoch 48/100\n",
      "1198/1198 [==============================] - 5s 4ms/sample - loss: 0.0027\n",
      "Epoch 49/100\n",
      "1198/1198 [==============================] - 5s 4ms/sample - loss: 0.0021\n",
      "Epoch 50/100\n",
      "1198/1198 [==============================] - 5s 4ms/sample - loss: 0.0022\n",
      "Epoch 51/100\n",
      "1198/1198 [==============================] - 5s 4ms/sample - loss: 0.0022\n",
      "Epoch 52/100\n",
      "1198/1198 [==============================] - 5s 4ms/sample - loss: 0.0022\n",
      "Epoch 53/100\n",
      "1198/1198 [==============================] - 5s 4ms/sample - loss: 0.0019\n",
      "Epoch 54/100\n",
      "1198/1198 [==============================] - 5s 4ms/sample - loss: 0.0021\n",
      "Epoch 55/100\n",
      "1198/1198 [==============================] - 5s 4ms/sample - loss: 0.0019\n",
      "Epoch 56/100\n",
      "1198/1198 [==============================] - 5s 4ms/sample - loss: 0.0020\n",
      "Epoch 57/100\n",
      "1198/1198 [==============================] - 5s 4ms/sample - loss: 0.0022\n",
      "Epoch 58/100\n",
      "1198/1198 [==============================] - 5s 4ms/sample - loss: 0.0019\n",
      "Epoch 59/100\n",
      "1198/1198 [==============================] - 5s 4ms/sample - loss: 0.0020\n",
      "Epoch 60/100\n",
      "1198/1198 [==============================] - 5s 4ms/sample - loss: 0.0019\n",
      "Epoch 61/100\n",
      "1198/1198 [==============================] - 5s 4ms/sample - loss: 0.0020\n",
      "Epoch 62/100\n",
      "1198/1198 [==============================] - 5s 4ms/sample - loss: 0.0018\n",
      "Epoch 63/100\n",
      "1198/1198 [==============================] - 5s 4ms/sample - loss: 0.0018\n",
      "Epoch 64/100\n",
      "1198/1198 [==============================] - 5s 4ms/sample - loss: 0.0018\n",
      "Epoch 65/100\n",
      "1198/1198 [==============================] - 5s 4ms/sample - loss: 0.0020\n",
      "Epoch 66/100\n",
      "1198/1198 [==============================] - 5s 4ms/sample - loss: 0.0018\n",
      "Epoch 67/100\n",
      "1198/1198 [==============================] - 5s 4ms/sample - loss: 0.0022\n",
      "Epoch 68/100\n",
      "1198/1198 [==============================] - 5s 4ms/sample - loss: 0.0018\n",
      "Epoch 69/100\n",
      "1198/1198 [==============================] - 5s 4ms/sample - loss: 0.0016\n",
      "Epoch 70/100\n",
      "1198/1198 [==============================] - 5s 4ms/sample - loss: 0.0016\n",
      "Epoch 71/100\n",
      "1198/1198 [==============================] - 5s 4ms/sample - loss: 0.0016\n",
      "Epoch 72/100\n",
      "1198/1198 [==============================] - 5s 4ms/sample - loss: 0.0015\n",
      "Epoch 73/100\n",
      "1198/1198 [==============================] - 5s 4ms/sample - loss: 0.0015\n",
      "Epoch 74/100\n",
      "1198/1198 [==============================] - 5s 4ms/sample - loss: 0.0017\n",
      "Epoch 75/100\n",
      "1198/1198 [==============================] - 6s 5ms/sample - loss: 0.0015\n",
      "Epoch 76/100\n",
      "1198/1198 [==============================] - 5s 5ms/sample - loss: 0.0019\n",
      "Epoch 77/100\n",
      "1198/1198 [==============================] - 5s 4ms/sample - loss: 0.0017\n",
      "Epoch 78/100\n",
      "1198/1198 [==============================] - 5s 5ms/sample - loss: 0.0015\n",
      "Epoch 79/100\n",
      "1198/1198 [==============================] - 5s 4ms/sample - loss: 0.0016\n",
      "Epoch 80/100\n",
      "1198/1198 [==============================] - 5s 4ms/sample - loss: 0.0015\n",
      "Epoch 81/100\n",
      "1198/1198 [==============================] - 5s 4ms/sample - loss: 0.0015\n",
      "Epoch 82/100\n",
      "1198/1198 [==============================] - 5s 4ms/sample - loss: 0.0015\n",
      "Epoch 83/100\n",
      "1198/1198 [==============================] - 5s 5ms/sample - loss: 0.0016\n",
      "Epoch 84/100\n",
      "1198/1198 [==============================] - 5s 4ms/sample - loss: 0.0016\n",
      "Epoch 85/100\n",
      "1198/1198 [==============================] - 5s 4ms/sample - loss: 0.0016\n",
      "Epoch 86/100\n",
      "1198/1198 [==============================] - 5s 4ms/sample - loss: 0.0014\n",
      "Epoch 87/100\n",
      "1198/1198 [==============================] - 5s 4ms/sample - loss: 0.0015\n",
      "Epoch 88/100\n",
      "1198/1198 [==============================] - 5s 4ms/sample - loss: 0.0014\n",
      "Epoch 89/100\n",
      "1198/1198 [==============================] - 5s 4ms/sample - loss: 0.0015\n",
      "Epoch 90/100\n",
      "1198/1198 [==============================] - 5s 5ms/sample - loss: 0.0014\n",
      "Epoch 91/100\n"
     ]
    },
    {
     "name": "stdout",
     "output_type": "stream",
     "text": [
      "1198/1198 [==============================] - 5s 4ms/sample - loss: 0.0012\n",
      "Epoch 92/100\n",
      "1198/1198 [==============================] - 5s 5ms/sample - loss: 0.0014\n",
      "Epoch 93/100\n",
      "1198/1198 [==============================] - 5s 4ms/sample - loss: 0.0014\n",
      "Epoch 94/100\n",
      "1198/1198 [==============================] - 5s 4ms/sample - loss: 0.0014\n",
      "Epoch 95/100\n",
      "1198/1198 [==============================] - 5s 4ms/sample - loss: 0.0013\n",
      "Epoch 96/100\n",
      "1198/1198 [==============================] - 5s 4ms/sample - loss: 0.0013\n",
      "Epoch 97/100\n",
      "1198/1198 [==============================] - 5s 4ms/sample - loss: 0.0014\n",
      "Epoch 98/100\n",
      "1198/1198 [==============================] - 5s 5ms/sample - loss: 0.0013\n",
      "Epoch 99/100\n",
      "1198/1198 [==============================] - 5s 4ms/sample - loss: 0.0012\n",
      "Epoch 100/100\n",
      "1198/1198 [==============================] - 5s 4ms/sample - loss: 0.0010\n"
     ]
    },
    {
     "data": {
      "text/plain": [
       "<tensorflow.python.keras.callbacks.History at 0x1c746a60148>"
      ]
     },
     "execution_count": 8,
     "metadata": {},
     "output_type": "execute_result"
    }
   ],
   "source": [
    "model.fit(x_train, y_train, epochs= 100, batch_size=32)"
   ]
  },
  {
   "cell_type": "markdown",
   "metadata": {
    "id": "4hRau_lIkrE8"
   },
   "source": [
    "## Model Evaluation & Predictions"
   ]
  },
  {
   "cell_type": "markdown",
   "metadata": {
    "id": "SgJO6qEDksxD"
   },
   "source": [
    "### Getting the real stock price of 2017"
   ]
  },
  {
   "cell_type": "code",
   "execution_count": 18,
   "metadata": {
    "executionInfo": {
     "elapsed": 334406,
     "status": "ok",
     "timestamp": 1612968424332,
     "user": {
      "displayName": "Jordan Sauchuk",
      "photoUrl": "",
      "userId": "08387430205938821804"
     },
     "user_tz": 300
    },
    "id": "FmBT2zqukxTz"
   },
   "outputs": [],
   "source": [
    "test = pd.read_csv('./Google_Stock_Price_Test.csv')\n",
    "actual_price = test.iloc[:, 1:2].values"
   ]
  },
  {
   "cell_type": "markdown",
   "metadata": {
    "id": "GrvrLblxkz42"
   },
   "source": [
    "### Getting the predicted stock price of 2017"
   ]
  },
  {
   "cell_type": "code",
   "execution_count": 21,
   "metadata": {
    "executionInfo": {
     "elapsed": 334264,
     "status": "ok",
     "timestamp": 1612968426016,
     "user": {
      "displayName": "Jordan Sauchuk",
      "photoUrl": "",
      "userId": "08387430205938821804"
     },
     "user_tz": 300
    },
    "id": "emikTvUpk3Ck"
   },
   "outputs": [],
   "source": [
    "df = pd.concat([train['Open'], test['Open']], axis=0)\n",
    "inputs = df[len(df) - len(test) - 60:].values\n",
    "inputs = inputs.reshape(-1,1)\n",
    "inputs = sc.transform(inputs)\n",
    "\n",
    "x_test = []\n",
    "for i in range(60, 80):\n",
    "    x_test.append(inputs[i-60:i, 0])\n",
    "    \n",
    "x_test = np.array(x_test)\n",
    "x_test = np.reshape(x_test, (x_test.shape[0], x_test.shape[1], 1))\n",
    "\n",
    "preds = model.predict(x_test)\n",
    "preds = sc.inverse_transform(preds)"
   ]
  },
  {
   "cell_type": "markdown",
   "metadata": {
    "id": "iFTNs3YHk6FQ"
   },
   "source": [
    "### Visualising the results"
   ]
  },
  {
   "cell_type": "code",
   "execution_count": 23,
   "metadata": {
    "colab": {
     "base_uri": "https://localhost:8080/",
     "height": 295
    },
    "executionInfo": {
     "elapsed": 333422,
     "status": "ok",
     "timestamp": 1612968426363,
     "user": {
      "displayName": "Jordan Sauchuk",
      "photoUrl": "",
      "userId": "08387430205938821804"
     },
     "user_tz": 300
    },
    "id": "8OUI8U49k9tH",
    "outputId": "7770140e-ad2e-43f3-d998-7ade2dfc8c5a"
   },
   "outputs": [
    {
     "data": {
      "image/png": "[encoded data removed]",
      "text/plain": [
       "<Figure size 432x288 with 1 Axes>"
      ]
     },
     "metadata": {
      "needs_background": "light"
     },
     "output_type": "display_data"
    }
   ],
   "source": [
    "plt.plot(actual_price, color='red', label='Google Stock Price')\n",
    "plt.plot(preds, color='green', label='Predicted Price')\n",
    "plt.title('Google Stonk Prediction')\n",
    "plt.xlabel('Time')\n",
    "plt.ylabel('Price')\n",
    "plt.legend()\n",
    "plt.show()"
   ]
  }
 ],
 "metadata": {
  "colab": {
   "collapsed_sections": [],
   "name": "rnn.ipynb",
   "provenance": [
    {
     "file_id": "1kSzCghOVYABVCU0Z8zswodXTsYe5in5F",
     "timestamp": 1599584060340
    }
   ],
   "toc_visible": true
  },
  "kernelspec": {
   "display_name": "Python 3",
   "language": "python",
   "name": "python3"
  },
  "language_info": {
   "codemirror_mode": {
    "name": "ipython",
    "version": 3
   },
   "file_extension": ".py",
   "mimetype": "text/x-python",
   "name": "python",
   "nbconvert_exporter": "python",
   "pygments_lexer": "ipython3",
   "version": "3.7.10"
  }
 },
 "nbformat": 4,
 "nbformat_minor": 1
}
