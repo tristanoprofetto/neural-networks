{
  "nbformat": 4,
  "nbformat_minor": 0,
  "metadata": {
    "colab": {
      "name": "CycleGAN.ipynb",
      "provenance": [],
      "toc_visible": true,
      "authorship_tag": "ABX9TyMUa867F4hsYI/gEU6TYu3E",
      "include_colab_link": true
    },
    "kernelspec": {
      "name": "python3",
      "display_name": "Python 3"
    },
    "language_info": {
      "name": "python"
    },
    "accelerator": "GPU"
  },
  "cells": [
    {
      "cell_type": "markdown",
      "metadata": {
        "id": "view-in-github",
        "colab_type": "text"
      },
      "source": [
        "<a href=\"https://colab.research.google.com/github/tristanoprofetto/neural-networks/blob/main/GAN/CycleGAN/CycleGAN.ipynb\" target=\"_parent\"><img src=\"https://colab.research.google.com/assets/colab-badge.svg\" alt=\"Open In Colab\"/></a>"
      ]
    },
    {
      "cell_type": "markdown",
      "metadata": {
        "id": "udSzMxq9t-wI"
      },
      "source": [
        "# CycleGAN"
      ]
    },
    {
      "cell_type": "code",
      "metadata": {
        "id": "G-gm_IlAge5l"
      },
      "source": [
        "import torch\n",
        "from torch import nn\n",
        "from tqdm.auto import tqdm\n",
        "from torchvision import transforms\n",
        "from torchvision.datasets import VOCSegmentation\n",
        "from torchvision.utils import make_grid\n",
        "from torch.utils.data import DataLoader\n",
        "import matplotlib.pyplot as plt\n",
        "import torchvision\n",
        "import glob\n",
        "import random\n",
        "import os\n",
        "from torch.utils.data import Dataset\n",
        "from PIL import Image\n",
        "import torch.nn.functional as F\n",
        "from skimage import color"
      ],
      "execution_count": null,
      "outputs": []
    },
    {
      "cell_type": "markdown",
      "metadata": {
        "id": "U1g1A6OykyFs"
      },
      "source": [
        "### Image Processing"
      ]
    },
    {
      "cell_type": "code",
      "metadata": {
        "id": "Fp5Pr3XTaDPG"
      },
      "source": [
        "# Function to display images during training/testing\n",
        "def showImages(image_tensor, n=25, size=(1, 28, 28)):\n",
        "  image = (image_tensor + 1) / 2\n",
        "  image = image.detach().cpu().view(-1, *size)\n",
        "  image_grid = make_grid(image[:n], nrow=5)\n",
        "  plt.imshow(image.grid.permute(1, 2, 0).squeeze())\n",
        "  plt.show()\n",
        "\n",
        "\n",
        "# Object class to load and split the two groups of images\n",
        "class ImageData(Dataset):\n",
        "\n",
        "  def __init__(self, root, transform=None, mode='train'):\n",
        "    self.transform = transform\n",
        "    self.files_A = sorted(glob.glob(os.path.join(root, '%sA' % mode) + '/*.*'))\n",
        "    self.files_B = sorted(glob.glob(os.path.join(root, '%sB' % mode) + '/*.*'))\n",
        "\n",
        "    if len(self.files_A) > len(self.files_B):\n",
        "      self.files_A, self.files_B = self.files_B, self.files_A\n",
        "    \n",
        "    self.newPerm()\n",
        "    assert len(self.files_A) > 0, \"make sure to download the images!!!!\"\n",
        "\n",
        "  \n",
        "  def newPerm(self):\n",
        "    self.randperm = torch.randperm(len(self.files_B))[:len(self.files_A)]\n",
        "\n",
        "  def __getItem__(self, index):\n",
        "\n",
        "    A = self.transform(Image.open(Self.files_A[index % len(self.files_A)]))\n",
        "    B = self.transform(Image.open(Self.files_B[self.randperm[index]]))\n",
        "\n",
        "    if A.shape[0] != 3:\n",
        "      A = A.repeat(3, 1, 1)\n",
        "    \n",
        "    if B.shape[0] != 3:\n",
        "      B = B.repeat(3, 1, 1)\n",
        "\n",
        "    if index== len(self) - 1:\n",
        "      self.newPerm()\n",
        "    \n",
        "    return 2*(A - 0.5), 2*(B - 0.5)\n",
        "\n",
        "  \n",
        "  def __len__(self):\n",
        "    return min(len(self.files_A), len(self.files_B))\n"
      ],
      "execution_count": null,
      "outputs": []
    },
    {
      "cell_type": "markdown",
      "metadata": {
        "id": "wP9wAqnXktAc"
      },
      "source": [
        "### Building Blocks"
      ]
    },
    {
      "cell_type": "code",
      "metadata": {
        "id": "0Fwve2EFfhG2"
      },
      "source": [
        "# Residual Blocks for adding previous outputs to the original inputs\n",
        "class ResidualBlock(nn.Module):\n",
        "\n",
        "  def __init__(self, inputChannels):\n",
        "    super(ResidualBlock, self).__init__()\n",
        "\n",
        "    # Defining Convolutional layers\n",
        "    self.c1 = nn.Conv2d(inputChannels, inputChannels, kernel_size=3, padding=1, padding_mode='reflect')\n",
        "    self.c2 = nn.Conv2d(inputChannels, inputChannels, kernel_size=3, padding=1, padding_mode='reflect')\n",
        "    self.norm = nn.InstanceNorm2d(inputChannels)\n",
        "    self.activation = nn.ReLU()\n",
        "\n",
        "\n",
        "  # Function for completing a forward pass of the residual block\n",
        "  def feedForward(self, x):\n",
        "    original = x.clone()\n",
        "\n",
        "    x = self.c1(x)\n",
        "    x = self.norm(x)\n",
        "    x = self.activation(x)\n",
        "\n",
        "    x = self.c2(x)\n",
        "    x = self.norm(x)\n",
        "    \n",
        "    return original + x\n",
        "\n",
        "\n",
        "\n",
        "# Object class for Downsampling images \n",
        "class ContractingBlock(nn.Module):\n",
        "\n",
        "  def __init__(self, inputChannels, use_bn=True, kernel_size=3, activation='relu'):\n",
        "    super(ContractingBlock, self).__init__()\n",
        "\n",
        "    self.c1 = nn.Conv2d(inputChannels, 2 * inputChannels, kernel_size=kernel_size, padding=1, stride=2, padding_mode='reflect')\n",
        "    self.activation = nn.ReLU()\n",
        "\n",
        "    if use_bn:\n",
        "      self.norm = nn.InstanceNorm2d(2 * inputChannels)\n",
        "    self.use_bn = use_bn\n",
        "\n",
        "\n",
        "  def feedForward(self, x):\n",
        "\n",
        "    x = self.c1(x)\n",
        "\n",
        "    if self.use_bn:\n",
        "      x = self.norm(x)\n",
        "    \n",
        "    x = self.activation(x)\n",
        "    return x\n",
        "\n",
        "\n",
        "\n",
        "# Performs a convolutional transpose to Upsample our images\n",
        "class ExpandingBlock(nn.Module):\n",
        "\n",
        "  def __init__(self, inputChannels, use_bn=True):\n",
        "    super(ExpandingBlock, self).__init__()\n",
        "\n",
        "    self.c1 = nn.ConvTranspose2d(inputChannels, inputChannels // 2, kernel_size=3, stride=2, padding=1, output_padding=1)\n",
        "    if use_bn:\n",
        "      self.norm = nn.InstanceNorm2d(inputChannels // 2)\n",
        "    self.use_bn = use_bn\n",
        "    self.activation = nn.ReLU()\n",
        "\n",
        "  \n",
        "  def feedForward(self, x):\n",
        "\n",
        "    x= self.c1(x)\n",
        "    if self.use_bn:\n",
        "      x = self.norm(x)\n",
        "    x = self.activation\n",
        "\n",
        "    return x\n",
        "\n",
        "\n",
        "# Final Layer of Generator ... maps each output to the desired number of output channels\n",
        "class FeatureMapBlock(nn.Module):\n",
        "\n",
        "  def __init__(self, inputChannels, outputChannels):\n",
        "    super(FeatureMapBlock, self).__init__()\n",
        "    self.conv = nn.Conv2d(inputChannels, outputChannels, kernel_size=7, padding=3, padding_mode='reflect')\n",
        "\n",
        "  def feedForward(self, x):\n",
        "    x = self.conv(x)\n",
        "    return x"
      ],
      "execution_count": null,
      "outputs": []
    },
    {
      "cell_type": "markdown",
      "metadata": {
        "id": "kG4b-ZDkrlQT"
      },
      "source": [
        "### Generator"
      ]
    },
    {
      "cell_type": "code",
      "metadata": {
        "id": "407lRumKkoB2"
      },
      "source": [
        "class Generator(nn.Module):\n",
        "\n",
        "  def __init__(self, inputChannels, outputChannels, hiddenChannels=64):\n",
        "    super(Generator, self).__init__()\n",
        "\n",
        "    self.upsample = FeatureMapBlock(inputChannels, hiddenChannels)\n",
        "\n",
        "    self.contract1 = ContractingBlock(hiddenChannels)\n",
        "    self.contract2 = ContractingBlock(2 * hiddenChannels)\n",
        "\n",
        "    self.res0 = ResidualBlock(4 * hiddenChannels)\n",
        "    self.res1 = ResidualBlock(4 * hiddenChannels)\n",
        "    self.res2 = ResidualBlock(4 * hiddenChannels)\n",
        "    self.res3 = ResidualBlock(4 * hiddenChannels)\n",
        "    self.res4 = ResidualBlock(4 * hiddenChannels)\n",
        "    self.res5 = ResidualBlock(4 * hiddenChannels)\n",
        "    self.res6 = ResidualBlock(4 * hiddenChannels)\n",
        "    self.res7 = ResidualBlock(4 * hiddenChannels)\n",
        "    self.res8 = ResidualBlock(4 * hiddenChannels)\n",
        "\n",
        "    self.expand1 = ExpandingBlock(4 * hiddenChannels)\n",
        "    self.expand2 = ExpandingBlock(2 * hiddenChannels)\n",
        "\n",
        "    self.downSample = FeatureMapBlock(hiddenChannels, outputChannels)\n",
        "\n",
        "    self.activation = nn.Tanh()\n",
        "\n",
        "\n",
        "  def feedForward(self, x):\n",
        "\n",
        "    x = self.upsample(x)\n",
        "    x = self.contract1(x)\n",
        "    x = self.contract2(x)\n",
        "    x = self.res0(x)\n",
        "    x = self.res1(x)\n",
        "    x = self.res2(x)\n",
        "    x = self.res3(x)\n",
        "    x = self.res4(x)\n",
        "    x = self.res5(x)\n",
        "    x = self.res6(x)\n",
        "    x = self.res7(x)\n",
        "    x = self.res8(x)\n",
        "    x = self.expand1(x)\n",
        "    x = self.expand2(x)\n",
        "    x = self.activation(x)\n",
        "\n",
        "    return x"
      ],
      "execution_count": null,
      "outputs": []
    },
    {
      "cell_type": "markdown",
      "metadata": {
        "id": "9qGUSn-7rvNJ"
      },
      "source": [
        "### Discriminator"
      ]
    },
    {
      "cell_type": "code",
      "metadata": {
        "id": "_JDZ_pRqnSxO"
      },
      "source": [
        "class Discriminator(nn.Module):\n",
        "\n",
        "  def __init__(self, inputChannels, hiddenChannels=64):\n",
        "    super(Discriminator, self).__init__()\n",
        "\n",
        "    self.upsample = FeatureMapBlock(inputChannels, hiddenChannels)\n",
        "\n",
        "    self.contract1 = ContractingBlock(hiddenChannels, use_bn=False, kernel_size=4, activation='lrelu')\n",
        "    self.contract2 = ContractingBlock(2 * hiddenChannels, kernel_size=4, activation='lrelu')\n",
        "    self.contract3 = ContractingBlock(4 * hiddenChannels, kernel_size=4, activation='lrelu')\n",
        "\n",
        "    self.output = nn.Conv2d(8 * inputChannels, 1, kernel_size=1)\n",
        "\n",
        "  def feedForward(self, x):\n",
        "    x = self.upsample(x)\n",
        "    x = self.contract1(x)\n",
        "    x = self.contract2(x)\n",
        "    x = self.contract3(x)\n",
        "    x = self.output(x)\n",
        "\n",
        "    return x"
      ],
      "execution_count": null,
      "outputs": []
    },
    {
      "cell_type": "code",
      "metadata": {
        "id": "Yp2y--OZfXO3",
        "colab": {
          "base_uri": "https://localhost:8080/",
          "height": 316
        },
        "outputId": "5cbbe7fc-4945-48d0-c5b9-5745f955da23"
      },
      "source": [
        "# Data Loading & Augmentation\n",
        "load_shape = 286\n",
        "target_shape = 256\n",
        "\n",
        "transform = transforms.Compose([\n",
        "                                transforms.Resize(load_shape),\n",
        "                                transforms.RandomCrop(target_shape),\n",
        "                                transforms.RandomHorizontalFlip(),\n",
        "                                transforms.ToTensor()\n",
        "])\n",
        "\n",
        "data = ImageData(\"horse2zebra\", transform=transform)"
      ],
      "execution_count": null,
      "outputs": [
        {
          "output_type": "error",
          "ename": "AssertionError",
          "evalue": "ignored",
          "traceback": [
            "\u001b[0;31m---------------------------------------------------------------------------\u001b[0m",
            "\u001b[0;31mAssertionError\u001b[0m                            Traceback (most recent call last)",
            "\u001b[0;32m<ipython-input-6-6c0a623a7378>\u001b[0m in \u001b[0;36m<module>\u001b[0;34m()\u001b[0m\n\u001b[1;32m     10\u001b[0m ])\n\u001b[1;32m     11\u001b[0m \u001b[0;34m\u001b[0m\u001b[0m\n\u001b[0;32m---> 12\u001b[0;31m \u001b[0mdata\u001b[0m \u001b[0;34m=\u001b[0m \u001b[0mImageData\u001b[0m\u001b[0;34m(\u001b[0m\u001b[0;34m\"horse2zebra\"\u001b[0m\u001b[0;34m,\u001b[0m \u001b[0mtransform\u001b[0m\u001b[0;34m=\u001b[0m\u001b[0mtransform\u001b[0m\u001b[0;34m)\u001b[0m\u001b[0;34m\u001b[0m\u001b[0;34m\u001b[0m\u001b[0m\n\u001b[0m",
            "\u001b[0;32m<ipython-input-3-313c25407f63>\u001b[0m in \u001b[0;36m__init__\u001b[0;34m(self, root, transform, mode)\u001b[0m\n\u001b[1;32m     20\u001b[0m \u001b[0;34m\u001b[0m\u001b[0m\n\u001b[1;32m     21\u001b[0m     \u001b[0mself\u001b[0m\u001b[0;34m.\u001b[0m\u001b[0mnewPerm\u001b[0m\u001b[0;34m(\u001b[0m\u001b[0;34m)\u001b[0m\u001b[0;34m\u001b[0m\u001b[0;34m\u001b[0m\u001b[0m\n\u001b[0;32m---> 22\u001b[0;31m     \u001b[0;32massert\u001b[0m \u001b[0mlen\u001b[0m\u001b[0;34m(\u001b[0m\u001b[0mself\u001b[0m\u001b[0;34m.\u001b[0m\u001b[0mfiles_A\u001b[0m\u001b[0;34m)\u001b[0m \u001b[0;34m>\u001b[0m \u001b[0;36m0\u001b[0m\u001b[0;34m,\u001b[0m \u001b[0;34m\"make sure to download the images!!!!\"\u001b[0m\u001b[0;34m\u001b[0m\u001b[0;34m\u001b[0m\u001b[0m\n\u001b[0m\u001b[1;32m     23\u001b[0m \u001b[0;34m\u001b[0m\u001b[0m\n\u001b[1;32m     24\u001b[0m \u001b[0;34m\u001b[0m\u001b[0m\n",
            "\u001b[0;31mAssertionError\u001b[0m: make sure to download the images!!!!"
          ]
        }
      ]
    },
    {
      "cell_type": "code",
      "metadata": {
        "id": "tUY1ULBBgz5E"
      },
      "source": [
        "# Initializing Training Parameters\n",
        "ganCriterion = nn.MSELoss()\n",
        "reconstructCriterion = nn.L1Loss()\n",
        "\n",
        "epochs = 20\n",
        "dim_A = 3 # Number of channels for images in set A\n",
        "dim_B = 3 # Number of channels for images in set B\n",
        "displayStep = 200 # How often to display generated images to track progress during training\n",
        "batchSize = 1\n",
        "learnRate = 0.0002\n",
        "device = 'cuda'\n",
        "\n",
        "\n",
        "# Initializing Training Variables\n",
        "gen_AB = Generator(dim_A, dim_B).to(device)\n",
        "gen_BA = Generator(dim_B, dim_A).to(device)\n",
        "gen_opt = torch.optim.Adam(list(gen_AB.parameters()) + list(gen_BA.parameters()), lr=learnRate, betas=(0.5, 0.999)) # optimizer for Generator\n",
        "\n",
        "disc_A = Discriminator(dim_A).to(device)\n",
        "disc_A_opt = torch.optim.Adam(disc_A.parameters(), lr=learnRate, betas=(0.5, 0.999))\n",
        "disc_B = Discriminator(dim_B).to(device)\n",
        "disc_B_opt = torch.optim.Adam(disc_B.parameters(), lr=learnRate, betas=(0.5, 0.999))\n",
        "\n",
        "def weights(m):\n",
        "  if isinstance(m, nn.Conv2d) or isinstance(m, nn.ConvTranspose2d):\n",
        "        torch.nn.init.normal_(m.weight, 0.0, 0.02)\n",
        "  if isinstance(m, nn.BatchNorm2d):\n",
        "        torch.nn.init.normal_(m.weight, 0.0, 0.02)\n",
        "        torch.nn.init.constant_(m.bias, 0)"
      ],
      "execution_count": null,
      "outputs": []
    },
    {
      "cell_type": "markdown",
      "metadata": {
        "id": "yHQgyjW1t0Yi"
      },
      "source": [
        "###Loss Functions"
      ]
    },
    {
      "cell_type": "code",
      "metadata": {
        "id": "skpAWE-A1Pa3"
      },
      "source": [
        "def genLoss(real_X, disc_Y, gen_XY, ganCriterion):\n",
        "\n",
        "  fakeY = gen_XY(real_X)\n",
        "  discFakePred = disc_Y(fake_Y)\n",
        "  ganLoss = ganCriterion(discFakePred, torch.ones_like(discFakePred))\n",
        "\n",
        "  return ganLoss, fakeY\n"
      ],
      "execution_count": null,
      "outputs": []
    },
    {
      "cell_type": "code",
      "metadata": {
        "id": "0Tm4FPPT2Fn1"
      },
      "source": [
        "def discLoss(real_X, fake_X, disc_X, ganCriterion):\n",
        "\n",
        "  discFakePred = disc_X(fake_X.detach())\n",
        "  discFakeLoss = ganCriterion(discFakePred, torch.ones_like(discFakePred))\n",
        "\n",
        "  discRealPred = disc_X(real_X)\n",
        "  discRealLoss = ganCriterion(discRealPred, torch.ones_like(discRealPred))\n",
        "\n",
        "  disc_Loss = (discFakeLoss + discRealLoss) /2\n",
        "\n",
        "  return disc_Loss"
      ],
      "execution_count": null,
      "outputs": []
    },
    {
      "cell_type": "code",
      "metadata": {
        "id": "d3AexK2xkbLd"
      },
      "source": [
        "def IdentityLoss(real_X, gen_YX, identityCriterion):\n",
        "  identity_X = gen_YX(real_X)\n",
        "  identity_loss = identityCriterion(identity_X, real_X)\n",
        "\n",
        "  return identity_loss, identity_X\n",
        "\n",
        "\n",
        "\n",
        "def CycleConsistencyLoss(real_X, fake_Y, fake_X, cycleCriterion):\n",
        "  cycle_X  = fake_X(fake_Y)\n",
        "  cycle_loss = cycleCriterion(cycle_X, real_X)\n",
        "\n",
        "  return cycle_loss, cycle_X\n"
      ],
      "execution_count": null,
      "outputs": []
    },
    {
      "cell_type": "code",
      "metadata": {
        "id": "Bz8fQcWe4Mhv"
      },
      "source": [
        "def ModelLoss(real_A, real_B, gen_AB, gen_BA, disc_A, disc_B, ganCriterion, identityCriterion, cycleCriterion, lambdaIdentity=0.1, lambdaCycle=10):\n",
        "\n",
        "  ganLoss_BA, fake_A = genLoss(real_B, disc_A, gen_BA, ganCriterion)\n",
        "  ganLoss_AB, fake_B = genLoss(real_A, disc_B, gen_AB, ganCriterion)\n",
        "  genLoss = ganLoss_BA + ganLoss_AB\n",
        "\n",
        "  indentityLoss_A, identity_A = IdentityLoss(real_A, gen_BA, identityCriterion)\n",
        "  identityLoss_B, indentity_B = IdentityLoss(real_B, gen_AB, identityCriterion)\n",
        "  indentityLoss = identityLoss_A + identityLoss_B\n",
        "\n",
        "  cycleLoss_BA, cycle_A = get_cycle_consistency_loss(real_A, fake_B, gen_BA, cycleCriterion)\n",
        "  cycleLoss_AB, cycle_B = get_cycle_consistency_loss(real_B, fake_A, gen_AB, cycleCriterion)\n",
        "  cycleLoss = cycleLoss_BA + cycleLoss_AB\n",
        "\n",
        "  totalLoss = genLoss + lambdaIdentity * identityLoss + lambdaCycle * cycleLoss\n",
        "  \n",
        "\n",
        "  return totalLoss, fake_A, fake_B\n"
      ],
      "execution_count": null,
      "outputs": []
    },
    {
      "cell_type": "markdown",
      "metadata": {
        "id": "2R7VM_2Qt3VL"
      },
      "source": [
        "### Model Training"
      ]
    },
    {
      "cell_type": "code",
      "metadata": {
        "id": "6WpKWvWE7Xsu"
      },
      "source": [
        "# Function for training the CycleGAN\n",
        "def train(save_model=False):\n",
        "    mean_generator_loss = 0\n",
        "    mean_discriminator_loss = 0\n",
        "    images = DataLoader(data, batch_size=batchSize, shuffle=True)\n",
        "    current_step = 0\n",
        "\n",
        "    for epoch in range(epochs):\n",
        "\n",
        "      for real_A, real_B in tqdm(images):\n",
        "\n",
        "        real_A = nn.functional.interpolate(real_A, size=target_shape)\n",
        "        real_A = real_A.to(device)\n",
        "\n",
        "        real_B = nn.functional.interpolate(real_B, size=target_shape)\n",
        "        real_b = real_B.to(device)\n",
        "\n",
        "\n",
        "        # UPDATING DISCRIMINATOR WEIGHTS\n",
        "\n",
        "        # Discriminator: A\n",
        "        disc_A_opt.zero_grad()\n",
        "\n",
        "        with torch.no_grad():\n",
        "          fake_A = gen_BA(real_B)\n",
        "        \n",
        "        discLoss_A = discLoss(real_A, fake_A, disc_A, ganCriterion)\n",
        "        discLoss_A.backward(retain_graph=True)\n",
        "        disc_A_opt.step()\n",
        "\n",
        "        # Discriminator: B\n",
        "        disc_B_opt.zero_grad()\n",
        "\n",
        "        with torch.no_grad():\n",
        "          fake_B = genAB(real_A)\n",
        "        \n",
        "        discLoss_B = discLoss(real_B, fake_B, disc_B, ganCriterion)\n",
        "        discLoss_B.backward(retain_graph=True)\n",
        "        disc_B_opt.step()\n",
        "\n",
        "\n",
        "        # UPDATING GENERATOR WEIGHTS\n",
        "\n",
        "        gen_opt.zero_grad()\n",
        "        genLoss, fake_A, fake_B = ModelLoss(real_A, real_B, gen_AB, gen_BA, disc_A, disc_B, ganCriterion, reconstructCriterion, reconstructCriterion)\n",
        "\n",
        "        genLoss.backward(retain_graph=True)\n",
        "        gen_opt.step()\n",
        "\n",
        "        mean_discriminator_loss += discLoss_A.item() / displayStep\n",
        "        mean_generator_loss += genLoss.item() / displayStep\n",
        "\n",
        "        \n",
        "        # VISUALIZE TRAINING PROGRESS\n",
        "        if current_step % displayStep == 0:\n",
        "\n",
        "          print(f\"Epoch {epoch}: Step {current_step}: Generator Loss: {mean_generator_loss}, Discriminator Loss: {mean_discriminator_loss}\")\n",
        "\n",
        "          showImages(torch.cat([real_A, real_B]), size=(dim_a, target_shape, target_shape))\n",
        "          showImages(torch.cat([fake_B, fake_A]), size=(dim_B, target_shape, target_shape))\n",
        "\n",
        "          if save_model:\n",
        "            torch.save({\n",
        "                'gen_AB': gen_AB.state_dict(),\n",
        "                        'gen_BA': gen_BA.state_dict(),\n",
        "                        'gen_opt': gen_opt.state_dict(),\n",
        "                        'disc_A': disc_A.state_dict(),\n",
        "                        'disc_A_opt': disc_A_opt.state_dict(),\n",
        "                        'disc_B': disc_B.state_dict(),\n",
        "                        'disc_B_opt': disc_B_opt.state_dict()\n",
        "                    }, f\"cycleGAN_{current_step}.pth\")\n",
        "  \n",
        "            current_step +=1\n"
      ],
      "execution_count": null,
      "outputs": []
    }
  ]
}